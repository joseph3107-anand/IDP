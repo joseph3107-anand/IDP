{
  "cells": [
    {
      "cell_type": "code",
      "execution_count": null,
      "metadata": {
        "colab": {
          "background_save": true
        },
        "id": "E1AhQs2osBde"
      },
      "outputs": [],
      "source": [
        "import pandas as pd\n",
        "import numpy as np\n",
        "import matplotlib.pyplot as plt\n",
        "import seaborn as sns\n",
        "\n",
        "#import plotly.plotly as py\n",
        "#import plotly.graph_objs as go\n",
        "\n",
        "#py.offline.init_notebook_mode(connected=True)\n",
        "\n",
        "#%matplotlib notebook\n",
        "%matplotlib inline\n",
        "\n",
        "import warnings\n",
        "warnings.filterwarnings('ignore')"
      ]
    },
    {
      "cell_type": "code",
      "execution_count": null,
      "metadata": {
        "colab": {
          "background_save": true
        },
        "id": "2lxioMVIsBdf"
      },
      "outputs": [],
      "source": [
        "data = pd.read_csv('/content/zomato.csv',on_bad_lines='skip',engine='python')\n",
        "data.head()"
      ]
    },
    {
      "cell_type": "code",
      "execution_count": null,
      "metadata": {
        "colab": {
          "background_save": true
        },
        "id": "GAkk3rNusBdg"
      },
      "outputs": [],
      "source": [
        "data.isna().sum()"
      ]
    },
    {
      "cell_type": "code",
      "execution_count": null,
      "metadata": {
        "colab": {
          "background_save": true
        },
        "id": "iKAwZqPQsBdh"
      },
      "outputs": [],
      "source": [
        "data.info()"
      ]
    },
    {
      "cell_type": "code",
      "execution_count": null,
      "metadata": {
        "colab": {
          "background_save": true
        },
        "id": "K-sHTAbysBdh"
      },
      "outputs": [],
      "source": [
        "data=data[data.cuisines.isna()==False]"
      ]
    },
    {
      "cell_type": "code",
      "execution_count": null,
      "metadata": {
        "colab": {
          "background_save": true
        },
        "id": "lWaM8GyrsBdh"
      },
      "outputs": [],
      "source": [
        "data.isna().sum()"
      ]
    },
    {
      "cell_type": "code",
      "execution_count": null,
      "metadata": {
        "colab": {
          "background_save": true
        },
        "id": "nFea7VmGsBdh"
      },
      "outputs": [],
      "source": [
        "data.info()"
      ]
    },
    {
      "cell_type": "code",
      "execution_count": null,
      "metadata": {
        "colab": {
          "background_save": true
        },
        "id": "RGGdsH1RsBdh"
      },
      "outputs": [],
      "source": [
        "data.drop(columns=[\"url\", 'address','phone','listed_in(city)'], inplace  =True)"
      ]
    },
    {
      "cell_type": "code",
      "execution_count": null,
      "metadata": {
        "colab": {
          "background_save": true
        },
        "id": "Cf36iNd6sBdi"
      },
      "outputs": [],
      "source": [
        "data.rename(columns={'approx_cost(for two people)': 'average_cost'}, inplace=True)"
      ]
    },
    {
      "cell_type": "code",
      "execution_count": null,
      "metadata": {
        "colab": {
          "background_save": true
        },
        "id": "WbobS560sBdi"
      },
      "outputs": [],
      "source": [
        "data.rename(columns={'listed_in(type)': 'listed_type'}, inplace=True)"
      ]
    },
    {
      "cell_type": "code",
      "execution_count": null,
      "metadata": {
        "colab": {
          "background_save": true
        },
        "id": "rjmeG4tXsBdi"
      },
      "outputs": [],
      "source": [
        "data.name.value_counts().head()"
      ]
    },
    {
      "cell_type": "code",
      "execution_count": null,
      "metadata": {
        "colab": {
          "background_save": true
        },
        "id": "dsZm_r7IsBdi"
      },
      "outputs": [],
      "source": [
        "plt.figure(figsize = (12,6))\n",
        "ax = data.name.value_counts()[:20].plot(kind = 'bar')\n",
        "ax.legend(['* Restaurants'])\n",
        "plt.xlabel(\"Name of Restaurant\")\n",
        "plt.ylabel(\"Count of Restaurants\")\n",
        "plt.title(\"Name vs Number of Restaurant\",fontsize =20, weight = 'bold')"
      ]
    },
    {
      "cell_type": "code",
      "execution_count": null,
      "metadata": {
        "colab": {
          "background_save": true
        },
        "id": "-83F6SY2sBdi"
      },
      "outputs": [],
      "source": [
        "data.online_order.value_counts()"
      ]
    },
    {
      "cell_type": "code",
      "execution_count": null,
      "metadata": {
        "colab": {
          "background_save": true
        },
        "id": "nIz_InnYsBdj"
      },
      "outputs": [],
      "source": [
        "ax= sns.countplot(data['online_order'])\n",
        "plt.title('Number of Restaurants accepting online orders', weight='bold')\n",
        "plt.xlabel('online orders')"
      ]
    },
    {
      "cell_type": "code",
      "execution_count": null,
      "metadata": {
        "colab": {
          "background_save": true
        },
        "id": "twgnLi-msBdj"
      },
      "outputs": [],
      "source": [
        "data['book_table'].value_counts()"
      ]
    },
    {
      "cell_type": "code",
      "execution_count": null,
      "metadata": {
        "colab": {
          "background_save": true
        },
        "id": "IhJ_0pizsBdj"
      },
      "outputs": [],
      "source": [
        "sns.countplot(data['book_table'], palette= \"Set1\")\n",
        "plt.title(\"No of Restaurant with Book Table Facility\", weight = 'bold')\n",
        "plt.xlabel('Book table facility')\n",
        "plt.ylabel('No of restaurants')"
      ]
    },
    {
      "cell_type": "code",
      "execution_count": null,
      "metadata": {
        "colab": {
          "background_save": true
        },
        "id": "m_fpM9ubsBdj"
      },
      "outputs": [],
      "source": [
        "data['location'].value_counts()[:10]"
      ]
    },
    {
      "cell_type": "code",
      "execution_count": null,
      "metadata": {
        "colab": {
          "background_save": true
        },
        "id": "cejS3twJsBdk"
      },
      "outputs": [],
      "source": [
        "plt.figure(figsize=(12,6))\n",
        "data['location'].value_counts()[:10].plot(kind = 'pie')\n",
        "plt.title('Location', weight = 'bold')"
      ]
    },
    {
      "cell_type": "code",
      "execution_count": null,
      "metadata": {
        "colab": {
          "background_save": true
        },
        "id": "W-OrNVFQsBdk"
      },
      "outputs": [],
      "source": [
        "plt.figure(figsize = (12,6))\n",
        "names = data['location'].value_counts()[:10].index\n",
        "values = data['location'].value_counts()[:10].values\n",
        "colors = ['gold', 'red', 'lightcoral', 'lightskyblue','blue','green','silver']\n",
        "explode = (0.1, 0, 0, 0,0,0,0,0,0,0)  # explode 1st slice\n",
        "\n",
        "plt.pie(values, explode=explode, labels=names, colors=colors,autopct='%1.1f%%', shadow=True, startangle=140)\n",
        "plt.axis('equal')\n",
        "plt.title(\"Percentage of restaurants present in that location\", weight = 'bold')\n",
        "plt.show()\n"
      ]
    },
    {
      "cell_type": "code",
      "execution_count": null,
      "metadata": {
        "colab": {
          "background_save": true
        },
        "id": "OyUl2Ci3sBdk"
      },
      "outputs": [],
      "source": [
        "plt.figure(figsize = (12,6))\n",
        "data['location'].value_counts()[:10].plot(kind = 'bar', color = 'g')\n",
        "plt.title(\"Location vs Count\", weight = 'bold')"
      ]
    },
    {
      "cell_type": "code",
      "execution_count": null,
      "metadata": {
        "colab": {
          "background_save": true
        },
        "id": "eqicSVN8sBdl"
      },
      "outputs": [],
      "source": [
        "data['location'].nunique()"
      ]
    },
    {
      "cell_type": "code",
      "execution_count": null,
      "metadata": {
        "colab": {
          "background_save": true
        },
        "id": "9Wer58U9sBdl"
      },
      "outputs": [],
      "source": [
        "data['rest_type'].value_counts().head(10)"
      ]
    },
    {
      "cell_type": "code",
      "execution_count": null,
      "metadata": {
        "colab": {
          "background_save": true
        },
        "id": "tQ-FAxbFsBdl"
      },
      "outputs": [],
      "source": [
        "plt.figure(figsize = (14,8))\n",
        "data.rest_type.value_counts()[:15].plot(kind = 'pie')\n",
        "plt.title('Restaurant Type', weight = 'bold')\n",
        "plt.show()"
      ]
    },
    {
      "cell_type": "code",
      "execution_count": null,
      "metadata": {
        "colab": {
          "background_save": true
        },
        "id": "yMctxWi8sBdl"
      },
      "outputs": [],
      "source": [
        "colors = ['#800080','red','#00FFFF','#FFFF00','#00FF00','#FF00FF']"
      ]
    },
    {
      "cell_type": "code",
      "execution_count": null,
      "metadata": {
        "colab": {
          "background_save": true
        },
        "id": "2XDSyZ8ksBdl"
      },
      "outputs": [],
      "source": [
        "plt.figure(figsize = (12,6))\n",
        "names = data['rest_type'].value_counts()[:6].index\n",
        "values = data['rest_type'].value_counts()[:6].values\n",
        "explode = (0.1, 0.1, 0.1, 0.1,0.1,0.1)  # explode 1st slice\n",
        "\n",
        "plt.title('Type of restaurant in percentage', weight = 'bold')\n",
        "plt.pie(values, explode=explode, labels=names, colors=colors,autopct='%1.1f%%', shadow=True, startangle=140)\n",
        "plt.axis('equal')\n",
        "plt.show()"
      ]
    },
    {
      "cell_type": "code",
      "execution_count": null,
      "metadata": {
        "colab": {
          "background_save": true
        },
        "id": "kiBPzjx2sBdm"
      },
      "outputs": [],
      "source": [
        "data['average_cost'].value_counts()[:20]"
      ]
    },
    {
      "cell_type": "code",
      "execution_count": null,
      "metadata": {
        "colab": {
          "background_save": true
        },
        "id": "o6lb95lpsBdm"
      },
      "outputs": [],
      "source": [
        "plt.figure(figsize = (12,8))\n",
        "data['average_cost'].value_counts()[:20].plot(kind = 'pie')\n",
        "plt.title('Avg cost in Restaurent for 2 people', weight = 'bold')\n",
        "plt.show()"
      ]
    },
    {
      "cell_type": "code",
      "execution_count": null,
      "metadata": {
        "colab": {
          "background_save": true
        },
        "id": "KoZ7BPFUsBdm"
      },
      "outputs": [],
      "source": [
        "colors  = (\"red\", \"green\", \"orange\", \"cyan\", \"brown\", \"grey\", \"blue\", \"indigo\", \"beige\", \"yellow\")"
      ]
    },
    {
      "cell_type": "code",
      "execution_count": null,
      "metadata": {
        "colab": {
          "background_save": true
        },
        "id": "dg97PiJIsBdm"
      },
      "outputs": [],
      "source": [
        "fig= plt.figure(figsize=(18, 9))\n",
        "explode = (0.1, 0, 0, 0,0,0,0,0,0,0)\n",
        "\n",
        "delplot = data['average_cost'].value_counts()[:10].plot(kind = 'pie',autopct='%1.1f%%',fontsize=20,shadow=True,explode = explode,colors = colors)\n",
        "\n",
        "#draw circle\n",
        "centre_circle = plt.Circle((0,0),0.80,fc='white')\n",
        "fig = plt.gcf()\n",
        "fig.gca().add_artist(centre_circle)\n",
        "\n",
        "plt.title(\"Average cost for 2 people in Rupees\",fontsize = 15,weight = 'bold')"
      ]
    },
    {
      "cell_type": "code",
      "execution_count": null,
      "metadata": {
        "colab": {
          "background_save": true
        },
        "id": "kdSImAwesBdm"
      },
      "outputs": [],
      "source": [
        "dishes_data = data[data.dish_liked.notnull()]\n",
        "dishes_data.dish_liked = dishes_data.dish_liked.apply(lambda x:x.lower().strip())"
      ]
    },
    {
      "cell_type": "code",
      "execution_count": null,
      "metadata": {
        "colab": {
          "background_save": true
        },
        "id": "3AOyxHrJsBdm"
      },
      "outputs": [],
      "source": [
        "dishes_data.isnull().sum()"
      ]
    },
    {
      "cell_type": "code",
      "execution_count": null,
      "metadata": {
        "colab": {
          "background_save": true
        },
        "id": "gmz5e6HJsBdn"
      },
      "outputs": [],
      "source": [
        "# count each dish to see how many times each dish repeated\n",
        "dish_count = []\n",
        "for i in dishes_data.dish_liked:\n",
        "    for t in i.split(','):\n",
        "        t = t.strip() # remove the white spaces to get accurate results\n",
        "        dish_count.append(t)"
      ]
    },
    {
      "cell_type": "code",
      "execution_count": null,
      "metadata": {
        "colab": {
          "background_save": true
        },
        "id": "bUxDLa25sBdn"
      },
      "outputs": [],
      "source": [
        "plt.figure(figsize=(12,6))\n",
        "pd.Series(dish_count).value_counts()[:10].plot(kind='bar',color= 'c')\n",
        "plt.title('Top 10 dished_liked in Bangalore',weight='bold')\n",
        "plt.xlabel('Dish')\n",
        "plt.ylabel('Count')"
      ]
    },
    {
      "cell_type": "code",
      "execution_count": null,
      "metadata": {
        "colab": {
          "background_save": true
        },
        "id": "pkxWFbbbsBdn"
      },
      "outputs": [],
      "source": [
        "data['rate'] = data['rate'].replace('NEW',np.NaN)\n",
        "data['rate'] = data['rate'].replace('-',np.NaN)\n",
        "data.dropna(how = 'any', inplace = True)"
      ]
    },
    {
      "cell_type": "code",
      "execution_count": null,
      "metadata": {
        "colab": {
          "background_save": true
        },
        "id": "Sam7DEBMsBdn"
      },
      "outputs": [],
      "source": [
        "data['rate'] = data.loc[:,'rate'].replace('[ ]','',regex = True)\n",
        "data['rate'] = data['rate'].astype(str)\n",
        "data['rate'] = data['rate'].apply(lambda r: r.replace('/5',''))\n",
        "data['rate'] = data['rate'].apply(lambda r: float(r))"
      ]
    },
    {
      "cell_type": "code",
      "execution_count": null,
      "metadata": {
        "colab": {
          "background_save": true
        },
        "id": "-_w_bnCGsBdn"
      },
      "outputs": [],
      "source": [
        "plt.axvline(x= data.rate.mean(),ls='--',color='yellow')\n",
        "plt.title('Average Rating for Bangalore Restaurants',weight='bold')\n",
        "plt.xlabel('Rating')\n",
        "plt.ylabel('No of Restaurants')\n",
        "print(data.rate.mean())"
      ]
    },
    {
      "cell_type": "code",
      "execution_count": null,
      "metadata": {
        "colab": {
          "background_save": true
        },
        "id": "R0aNnVXSsBdo"
      },
      "outputs": [],
      "source": [
        "f,ax=plt.subplots(figsize=(18,8))\n",
        "g = sns.pointplot(x=data[\"rest_type\"], y=data[\"rate\"], data=data)\n",
        "g.set_xticklabels(g.get_xticklabels(), rotation=90)\n",
        "plt.title('Restaurent type vs Rate', weight = 'bold')\n",
        "plt.show()"
      ]
    },
    {
      "cell_type": "code",
      "execution_count": null,
      "metadata": {
        "colab": {
          "background_save": true
        },
        "id": "f6AgvKSTsBdo"
      },
      "outputs": [],
      "source": [
        "#lets delete the nulll values\n",
        "cuisines_data = data[data.cuisines.notnull()]\n",
        "cuisines_data.cuisines = cuisines_data.cuisines.apply(lambda x:x.lower().strip())"
      ]
    },
    {
      "cell_type": "code",
      "execution_count": null,
      "metadata": {
        "colab": {
          "background_save": true
        },
        "id": "RAhfjmHIsBdo"
      },
      "outputs": [],
      "source": [
        "cuisines_count= []\n",
        "\n",
        "for i in cuisines_data.cuisines:\n",
        "    for j in i.split(','):\n",
        "        j = j.strip()\n",
        "        cuisines_count.append(j)"
      ]
    },
    {
      "cell_type": "code",
      "execution_count": null,
      "metadata": {
        "colab": {
          "background_save": true
        },
        "id": "YR2nFN4nsBds"
      },
      "outputs": [],
      "source": [
        "plt.figure(figsize=(12,6))\n",
        "pd.Series(cuisines_count).value_counts()[:10].plot(kind='bar',color= 'r')\n",
        "plt.title('Top 10 cuisines in Bangalore',weight='bold')\n",
        "plt.xlabel('cuisines type')\n",
        "plt.ylabel('No of restaurants')"
      ]
    },
    {
      "cell_type": "code",
      "execution_count": null,
      "metadata": {
        "colab": {
          "background_save": true
        },
        "id": "MVsKuF9HsBdt"
      },
      "outputs": [],
      "source": [
        "plt.figure(figsize = (12,6))\n",
        "sns.countplot(x=data['rate'], hue = data['online_order'])\n",
        "plt.ylabel(\"Restaurants that Accept/Not Accepting online orders\")\n",
        "plt.title(\"rate vs oline order\",weight = 'bold')"
      ]
    },
    {
      "cell_type": "code",
      "execution_count": null,
      "metadata": {
        "colab": {
          "background_save": true
        },
        "id": "tE6V0sGIsBdt"
      },
      "outputs": [],
      "source": [
        "data['online_order']= pd.get_dummies(data.online_order, drop_first=True)\n",
        "data['book_table']= pd.get_dummies(data.book_table, drop_first=True)\n",
        "data"
      ]
    },
    {
      "cell_type": "code",
      "execution_count": null,
      "metadata": {
        "colab": {
          "background_save": true
        },
        "id": "448PrZc-sBdt"
      },
      "outputs": [],
      "source": [
        "data.drop(columns=['dish_liked','reviews_list','menu_item','listed_type'], inplace  =True)"
      ]
    },
    {
      "cell_type": "code",
      "execution_count": null,
      "metadata": {
        "colab": {
          "background_save": true
        },
        "id": "0svpJ9aNsBdt"
      },
      "outputs": [],
      "source": [
        "data['rest_type'] = data['rest_type'].str.replace(',' , '')\n",
        "data['rest_type'] = data['rest_type'].astype(str).apply(lambda x: ' '.join(sorted(x.split())))\n",
        "data['rest_type'].value_counts().head()"
      ]
    },
    {
      "cell_type": "code",
      "execution_count": null,
      "metadata": {
        "colab": {
          "background_save": true
        },
        "id": "hSF1Z8RgsBdu"
      },
      "outputs": [],
      "source": [
        "data['cuisines'] = data['cuisines'].str.replace(',' , '')\n",
        "data['cuisines'] = data['cuisines'].astype(str).apply(lambda x: ' '.join(sorted(x.split())))\n",
        "data['cuisines'].value_counts().head()"
      ]
    },
    {
      "cell_type": "code",
      "execution_count": null,
      "metadata": {
        "colab": {
          "background_save": true
        },
        "id": "7RyKSpqisBdu"
      },
      "outputs": [],
      "source": [
        "from sklearn.preprocessing import LabelEncoder\n",
        "T = LabelEncoder()\n",
        "data['location'] = T.fit_transform(data['location'])\n",
        "data['rest_type'] = T.fit_transform(data['rest_type'])\n",
        "data['cuisines'] = T.fit_transform(data['cuisines'])\n",
        "#data['dish_liked'] = T.fit_transform(data['dish_liked']."
      ]
    },
    {
      "cell_type": "code",
      "execution_count": null,
      "metadata": {
        "colab": {
          "background_save": true
        },
        "id": "KR0FAIL6sBdu"
      },
      "outputs": [],
      "source": [
        "data[\"average_cost\"] = data[\"average_cost\"].str.replace(',' , '')"
      ]
    },
    {
      "cell_type": "code",
      "execution_count": null,
      "metadata": {
        "colab": {
          "background_save": true
        },
        "id": "YbRggkjWsBdv"
      },
      "outputs": [],
      "source": [
        "data[\"average_cost\"] = data[\"average_cost\"].astype('float')"
      ]
    },
    {
      "cell_type": "code",
      "execution_count": null,
      "metadata": {
        "colab": {
          "background_save": true
        },
        "id": "F9hJsZs_sBdv"
      },
      "outputs": [],
      "source": [
        "data.head()"
      ]
    },
    {
      "cell_type": "code",
      "execution_count": null,
      "metadata": {
        "colab": {
          "background_save": true
        },
        "id": "RW2YUtGmsBdv"
      },
      "outputs": [],
      "source": [
        "x = data.drop(['rate','name'],axis = 1)"
      ]
    },
    {
      "cell_type": "code",
      "execution_count": null,
      "metadata": {
        "colab": {
          "background_save": true
        },
        "id": "OCuvPipqsBdv"
      },
      "outputs": [],
      "source": [
        "y = data['rate']"
      ]
    },
    {
      "cell_type": "code",
      "execution_count": null,
      "metadata": {
        "colab": {
          "background_save": true
        },
        "id": "SSavoLl-sBdv"
      },
      "outputs": [],
      "source": [
        "x.shape"
      ]
    },
    {
      "cell_type": "code",
      "execution_count": null,
      "metadata": {
        "colab": {
          "background_save": true
        },
        "id": "CqpJSPxosBdw"
      },
      "outputs": [],
      "source": [
        "y.shape"
      ]
    },
    {
      "cell_type": "code",
      "execution_count": null,
      "metadata": {
        "colab": {
          "background_save": true
        },
        "id": "12y_xBYrsBdw"
      },
      "outputs": [],
      "source": [
        "from sklearn.model_selection import train_test_split\n",
        "X_train,X_test,y_train,y_test = train_test_split(x,y,test_size = 0.2,random_state = 33)"
      ]
    },
    {
      "cell_type": "code",
      "execution_count": null,
      "metadata": {
        "colab": {
          "background_save": true
        },
        "id": "Z8L29_r3sBdw"
      },
      "outputs": [],
      "source": [
        "data.info()"
      ]
    },
    {
      "cell_type": "code",
      "execution_count": null,
      "metadata": {
        "colab": {
          "background_save": true
        },
        "id": "3f4CLvCesBdw"
      },
      "outputs": [],
      "source": [
        "#standarizing\n",
        "#taking numeric values\n",
        "from sklearn.preprocessing import StandardScaler\n",
        "num_values1=data.select_dtypes(['float64','int64']).columns\n",
        "scaler = StandardScaler()\n",
        "scaler.fit(data[num_values1])\n",
        "data[num_values1]=scaler.transform(data[num_values1])"
      ]
    },
    {
      "cell_type": "code",
      "execution_count": null,
      "metadata": {
        "colab": {
          "background_save": true
        },
        "id": "GZ0NViyKsBdx"
      },
      "outputs": [],
      "source": [
        "data.head()"
      ]
    },
    {
      "cell_type": "markdown",
      "metadata": {
        "id": "WFI216g5Hbv1"
      },
      "source": [
        "LINEAR REGRESSION - BEFORE HOT ENCODING"
      ]
    },
    {
      "cell_type": "code",
      "execution_count": null,
      "metadata": {
        "colab": {
          "background_save": true
        },
        "id": "-_1NO_fMsBdx"
      },
      "outputs": [],
      "source": [
        "from sklearn.linear_model import LinearRegression\n",
        "lr = LinearRegression()\n",
        "lr.fit(X_train,y_train)\n",
        "y_pred_lr = lr.predict(X_test)"
      ]
    },
    {
      "cell_type": "code",
      "execution_count": null,
      "metadata": {
        "colab": {
          "background_save": true
        },
        "id": "pNsUEH0WsBdx"
      },
      "outputs": [],
      "source": [
        "lr.score(X_test, y_test)*100"
      ]
    },
    {
      "cell_type": "code",
      "execution_count": null,
      "metadata": {
        "colab": {
          "background_save": true
        },
        "id": "8TGmDQxZsBdy"
      },
      "outputs": [],
      "source": [
        "from sklearn import metrics\n",
        "print('Mean Absolute Error:', metrics.mean_absolute_error(y_test, y_pred_lr))\n",
        "print('Mean Squared Error:', metrics.mean_squared_error(y_test, y_pred_lr))\n",
        "print('Root Mean Squared Error:', np.sqrt(metrics.mean_squared_error(y_test, y_pred_lr)))"
      ]
    },
    {
      "cell_type": "markdown",
      "metadata": {
        "id": "qF6PS4h5Hjnv"
      },
      "source": [
        "RANDOM FOREST REGRESSOR - BEFORE HOT ENCODING"
      ]
    },
    {
      "cell_type": "code",
      "execution_count": null,
      "metadata": {
        "colab": {
          "background_save": true
        },
        "id": "enMTCmN0sBdy"
      },
      "outputs": [],
      "source": [
        "from sklearn import metrics\n",
        "from sklearn.ensemble import RandomForestRegressor\n",
        "rfr = RandomForestRegressor()\n",
        "rfr.fit(X_train,y_train)\n",
        "y_pred_rfr = rfr.predict(X_test)"
      ]
    },
    {
      "cell_type": "code",
      "execution_count": null,
      "metadata": {
        "colab": {
          "background_save": true
        },
        "id": "fED98Zb9sBdy"
      },
      "outputs": [],
      "source": [
        "rfr.score(X_test,y_test)*100"
      ]
    },
    {
      "cell_type": "code",
      "execution_count": null,
      "metadata": {
        "colab": {
          "background_save": true
        },
        "id": "JhgWmiSzsBdy"
      },
      "outputs": [],
      "source": [
        "print('Mean Absolute Error:', metrics.mean_absolute_error(y_test, y_pred_rfr))\n",
        "print('Mean Squared Error:', metrics.mean_squared_error(y_test, y_pred_rfr))\n",
        "print('Root Mean Squared Error:', np.sqrt(metrics.mean_squared_error(y_test, y_pred_rfr)))"
      ]
    },
    {
      "cell_type": "markdown",
      "metadata": {
        "id": "VBbDEcn0HsD-"
      },
      "source": [
        "RIDGE - BEFORE HOT ENCODING"
      ]
    },
    {
      "cell_type": "code",
      "execution_count": null,
      "metadata": {
        "colab": {
          "background_save": true
        },
        "id": "ZHoc5qypsBdz"
      },
      "outputs": [],
      "source": [
        "####RIDGE\n",
        "from sklearn.linear_model import Ridge\n",
        "rdg = Ridge()\n",
        "rdg.fit(X_train,y_train)\n",
        "y_pred_rdg = rdg.predict(X_test)"
      ]
    },
    {
      "cell_type": "code",
      "execution_count": null,
      "metadata": {
        "colab": {
          "background_save": true
        },
        "id": "TpdXZ2rfsBdz"
      },
      "outputs": [],
      "source": [
        "rdg.score(X_test,y_test)*100"
      ]
    },
    {
      "cell_type": "code",
      "execution_count": null,
      "metadata": {
        "colab": {
          "background_save": true
        },
        "id": "xbF63HadsBdz"
      },
      "outputs": [],
      "source": [
        "print('Mean Absolute Error:', metrics.mean_absolute_error(y_test, y_pred_rdg))\n",
        "print('Mean Squared Error:', metrics.mean_squared_error(y_test, y_pred_rdg))\n",
        "print('Root Mean Squared Error:', np.sqrt(metrics.mean_squared_error(y_test, y_pred_rdg)))"
      ]
    },
    {
      "cell_type": "markdown",
      "metadata": {
        "id": "RYHz6deLHwr8"
      },
      "source": [
        "LASSO BEFORE HOT ENCODING"
      ]
    },
    {
      "cell_type": "code",
      "execution_count": null,
      "metadata": {
        "colab": {
          "background_save": true
        },
        "id": "f7tPTRrTsBdz"
      },
      "outputs": [],
      "source": [
        "from sklearn.linear_model import Lasso\n",
        "ls = Lasso()\n",
        "ls.fit(X_train,y_train)\n",
        "y_pred_ls = ls.predict(X_test)"
      ]
    },
    {
      "cell_type": "code",
      "execution_count": null,
      "metadata": {
        "colab": {
          "background_save": true
        },
        "id": "wXyah-d9sBd0"
      },
      "outputs": [],
      "source": [
        "ls.score(X_test,y_test)*100"
      ]
    },
    {
      "cell_type": "code",
      "execution_count": null,
      "metadata": {
        "colab": {
          "background_save": true
        },
        "id": "eCZ1Dq7osBd0"
      },
      "outputs": [],
      "source": [
        "print('Mean Absolute Error:', metrics.mean_absolute_error(y_test, y_pred_ls))\n",
        "print('Mean Squared Error:', metrics.mean_squared_error(y_test, y_pred_ls))\n",
        "print('Root Mean Squared Error:', np.sqrt(metrics.mean_squared_error(y_test, y_pred_ls)))"
      ]
    },
    {
      "cell_type": "markdown",
      "metadata": {
        "id": "mBFNkWfgH7H1"
      },
      "source": [
        "SVM - BEFORE HOT ENCODING"
      ]
    },
    {
      "cell_type": "code",
      "execution_count": null,
      "metadata": {
        "colab": {
          "background_save": true
        },
        "id": "iwXFbv_esBd0"
      },
      "outputs": [],
      "source": [
        "from sklearn.svm import SVR\n",
        "sv=SVR()\n",
        "sv.fit(X_train,y_train)\n",
        "y_pred_sv=sv.predict(X_test)"
      ]
    },
    {
      "cell_type": "code",
      "execution_count": null,
      "metadata": {
        "colab": {
          "background_save": true
        },
        "id": "PDVk396nsBd0"
      },
      "outputs": [],
      "source": [
        "sv.score(X_test,y_test)*100"
      ]
    },
    {
      "cell_type": "code",
      "execution_count": null,
      "metadata": {
        "colab": {
          "background_save": true
        },
        "id": "mU4RJ_GosBd1"
      },
      "outputs": [],
      "source": [
        "print('Mean Absolute Error:', metrics.mean_absolute_error(y_test, y_pred_sv))\n",
        "print('Mean Squared Error:', metrics.mean_squared_error(y_test, y_pred_sv))\n",
        "print('Root Mean Squared Error:', np.sqrt(metrics.mean_squared_error(y_test, y_pred_sv)))"
      ]
    },
    {
      "cell_type": "markdown",
      "metadata": {
        "id": "Qhj6kCRPH_nW"
      },
      "source": [
        "KNN - BEFORE HOT ENCODING"
      ]
    },
    {
      "cell_type": "code",
      "execution_count": null,
      "metadata": {
        "colab": {
          "background_save": true
        },
        "id": "u8DAWSvYsBd1"
      },
      "outputs": [],
      "source": [
        "#import required packages\n",
        "from sklearn import neighbors\n",
        "from sklearn.metrics import mean_squared_error\n",
        "from math import sqrt\n",
        "rmse_val = [] #to store rmse values for different k\n",
        "for K in range(20):\n",
        "    K = K+1\n",
        "    knn = neighbors.KNeighborsRegressor(n_neighbors = K)\n",
        "\n",
        "    knn.fit(X_train, y_train)  #fit the model\n",
        "    y_pred_knn=knn.predict(X_test) #make prediction on test set"
      ]
    },
    {
      "cell_type": "code",
      "execution_count": null,
      "metadata": {
        "colab": {
          "background_save": true
        },
        "id": "TcU9avc9sBd1"
      },
      "outputs": [],
      "source": [
        "knn.score(X_test,y_test)*100"
      ]
    },
    {
      "cell_type": "code",
      "execution_count": null,
      "metadata": {
        "colab": {
          "background_save": true
        },
        "id": "9368NhNysBd1"
      },
      "outputs": [],
      "source": [
        "print('Mean Absolute Error:', metrics.mean_absolute_error(y_test, y_pred_knn))\n",
        "print('Mean Squared Error:', metrics.mean_squared_error(y_test, y_pred_knn))\n",
        "print('Root Mean Squared Error:', np.sqrt(metrics.mean_squared_error(y_test, y_pred_knn)))"
      ]
    },
    {
      "cell_type": "markdown",
      "metadata": {
        "id": "CkXbXnI_IFDw"
      },
      "source": [
        "BAYESIANRIDGE - BEFORE HOT ENCODING"
      ]
    },
    {
      "cell_type": "code",
      "execution_count": null,
      "metadata": {
        "colab": {
          "background_save": true
        },
        "id": "T_NzHJkKsBd2"
      },
      "outputs": [],
      "source": [
        "\n",
        "from sklearn.model_selection import train_test_split\n",
        "from sklearn.metrics import r2_score\n",
        "from sklearn.linear_model import BayesianRidge\n",
        "nb = BayesianRidge()\n",
        "nb.fit(X_train, y_train)\n",
        "\n",
        "# Model making a prediction on test data\n",
        "y_pred_nb = nb.predict(X_test)"
      ]
    },
    {
      "cell_type": "code",
      "execution_count": null,
      "metadata": {
        "colab": {
          "background_save": true
        },
        "id": "EWejVA7bsBd2"
      },
      "outputs": [],
      "source": [
        "nb.score(X_test,y_test)*100"
      ]
    },
    {
      "cell_type": "code",
      "execution_count": null,
      "metadata": {
        "colab": {
          "background_save": true
        },
        "id": "8tEc-F98sBd2"
      },
      "outputs": [],
      "source": [
        "print('Mean Absolute Error:', metrics.mean_absolute_error(y_test, y_pred_nb))\n",
        "print('Mean Squared Error:', metrics.mean_squared_error(y_test, y_pred_nb))\n",
        "print('Root Mean Squared Error:', np.sqrt(metrics.mean_squared_error(y_test, y_pred_nb)))"
      ]
    },
    {
      "cell_type": "code",
      "execution_count": null,
      "metadata": {
        "colab": {
          "background_save": true
        },
        "id": "n5G2Ps6ysBd3"
      },
      "outputs": [],
      "source": [
        "onehot = pd.read_csv(\"/content/zomato.csv\",on_bad_lines='skip',engine='python')\n",
        "onehot.head()"
      ]
    },
    {
      "cell_type": "code",
      "execution_count": null,
      "metadata": {
        "colab": {
          "background_save": true
        },
        "id": "TZPBvbYIsBd3"
      },
      "outputs": [],
      "source": [
        "onehot['rate'] = onehot['rate'].replace('NEW',np.NaN)\n",
        "onehot['rate'] = onehot['rate'].replace('-',np.NaN)\n",
        "onehot.dropna(how = 'any', inplace = True)\n",
        "\n",
        "onehot['rate'] = onehot.loc[:,'rate'].replace('[ ]','',regex = True)\n",
        "onehot['rate'] = onehot['rate'].astype(str)\n",
        "onehot['rate'] = onehot['rate'].apply(lambda r: r.replace('/5',''))\n",
        "onehot['rate'] = onehot['rate'].apply(lambda r: float(r))"
      ]
    },
    {
      "cell_type": "code",
      "execution_count": null,
      "metadata": {
        "colab": {
          "background_save": true
        },
        "id": "1Nx4_VYjsBd3"
      },
      "outputs": [],
      "source": [
        "onehot['cuisines'] = onehot['cuisines'].str.replace(',' , '')\n",
        "onehot['cuisines'] = onehot['cuisines'].astype(str).apply(lambda x: ' '.join(sorted(x.split())))\n",
        "onehot['cuisines'].unique()"
      ]
    },
    {
      "cell_type": "code",
      "execution_count": null,
      "metadata": {
        "colab": {
          "background_save": true
        },
        "id": "KzG1g1o9sBd4"
      },
      "outputs": [],
      "source": [
        "onehot['rest_type'] = onehot['rest_type'].str.replace(',' , '')\n",
        "onehot['rest_type'] = onehot['rest_type'].astype(str).apply(lambda x: ' '.join(sorted(x.split())))\n",
        "onehot['rest_type'].value_counts().head()"
      ]
    },
    {
      "cell_type": "code",
      "execution_count": null,
      "metadata": {
        "colab": {
          "background_save": true
        },
        "id": "nm29jyMNsBd4"
      },
      "outputs": [],
      "source": [
        "onehot['dish_liked'] = onehot['dish_liked'].str.replace(',' , '')\n",
        "onehot['dish_liked'] = onehot['dish_liked'].astype(str).apply(lambda x: ' '.join(sorted(x.split())))\n",
        "onehot['dish_liked'].value_counts().head()"
      ]
    },
    {
      "cell_type": "code",
      "execution_count": null,
      "metadata": {
        "colab": {
          "background_save": true
        },
        "id": "q8TX38k1sBd4"
      },
      "outputs": [],
      "source": [
        "dummy_rest_type=pd.get_dummies(onehot['rest_type'])\n",
        "dummy_city=pd.get_dummies(onehot['location'])\n",
        "dummy_cuisines=pd.get_dummies(onehot['cuisines'])\n",
        "dummy_dishliked=pd.get_dummies(onehot['dish_liked'])"
      ]
    },
    {
      "cell_type": "code",
      "execution_count": null,
      "metadata": {
        "colab": {
          "background_save": true
        },
        "id": "jBw_YMyrsBd4"
      },
      "outputs": [],
      "source": [
        "final=pd.concat([onehot,dummy_rest_type,dummy_city,dummy_cuisines,dummy_dishliked],axis=1)"
      ]
    },
    {
      "cell_type": "code",
      "execution_count": null,
      "metadata": {
        "colab": {
          "background_save": true
        },
        "id": "E0MTB4QHsBd5"
      },
      "outputs": [],
      "source": [
        "final.drop(columns=['rest_type','location','cuisines','dish_liked','name','phone'] , inplace=True)\n",
        "final.drop(columns=['reviews_list','menu_item','listed_in(type)','listed_in(city)'], inplace=True)\n",
        "final.drop(columns=['url','address'], inplace=True)"
      ]
    },
    {
      "cell_type": "code",
      "execution_count": null,
      "metadata": {
        "colab": {
          "background_save": true
        },
        "id": "CXjiHG8VsBd5"
      },
      "outputs": [],
      "source": [
        "# Assuming 'online_order' and 'book_table' contain 'Yes' and 'No' values\n",
        "# Create dummy columns\n",
        "online_order_dummies = pd.get_dummies(final['online_order'], prefix='online_order', drop_first=True)\n",
        "# drop_first=True to avoid multicollinearity\n",
        "book_table_dummies = pd.get_dummies(final['book_table'], prefix='book_table', drop_first=True)\n",
        "\n",
        "# Concatenate dummy columns to the DataFrame\n",
        "final = pd.concat([final, online_order_dummies, book_table_dummies], axis=1)\n",
        "\n",
        "# Drop the original columns\n",
        "final.drop(['online_order', 'book_table'], axis=1, inplace=True)"
      ]
    },
    {
      "cell_type": "code",
      "execution_count": null,
      "metadata": {
        "colab": {
          "background_save": true
        },
        "id": "8Qq4-101sBd5"
      },
      "outputs": [],
      "source": [
        "final['approx_cost(for two people)'] = final['approx_cost(for two people)'].str.replace(',' , '')"
      ]
    },
    {
      "cell_type": "code",
      "execution_count": null,
      "metadata": {
        "colab": {
          "background_save": true
        },
        "id": "AypPZa_BsBd5"
      },
      "outputs": [],
      "source": [
        "x = final.drop(['rate'],axis=1)\n",
        "y = final['rate']"
      ]
    },
    {
      "cell_type": "markdown",
      "metadata": {
        "id": "R1-giBUqIiQp"
      },
      "source": [
        "**AFTER ONE HOT ENCODING**"
      ]
    },
    {
      "cell_type": "markdown",
      "metadata": {
        "id": "jzLPBQugImc6"
      },
      "source": [
        "**LINEAR REGRESSION**"
      ]
    },
    {
      "cell_type": "code",
      "execution_count": null,
      "metadata": {
        "colab": {
          "background_save": true
        },
        "id": "BW-YMeiZsBd6"
      },
      "outputs": [],
      "source": [
        "from sklearn.model_selection import train_test_split\n",
        "X_train,X_test,y_train,y_test = train_test_split(x,y,test_size = 0.2,random_state = 33)"
      ]
    },
    {
      "cell_type": "code",
      "execution_count": null,
      "metadata": {
        "colab": {
          "background_save": true
        },
        "id": "UYOv8KaHsBd6"
      },
      "outputs": [],
      "source": [
        "from sklearn.linear_model import LinearRegression\n",
        "lr = LinearRegression()\n",
        "lr.fit(X_train,y_train)\n",
        "y_pred_lr = lr.predict(X_test)"
      ]
    },
    {
      "cell_type": "code",
      "execution_count": null,
      "metadata": {
        "colab": {
          "background_save": true
        },
        "id": "7h7RYkTTsBd6"
      },
      "outputs": [],
      "source": [
        "lr.score(X_test,y_test)*100"
      ]
    },
    {
      "cell_type": "code",
      "execution_count": null,
      "metadata": {
        "colab": {
          "background_save": true
        },
        "id": "zKMDx8OTsBd6"
      },
      "outputs": [],
      "source": [
        "print('Mean Absolute Error:', metrics.mean_absolute_error(y_test, y_pred_lr))\n",
        "print('Mean Squared Error:', metrics.mean_squared_error(y_test, y_pred_lr))\n",
        "print('Root Mean Squared Error:', np.sqrt(metrics.mean_squared_error(y_test, y_pred_lr)))"
      ]
    },
    {
      "cell_type": "markdown",
      "metadata": {
        "id": "xj3wv0gqI631"
      },
      "source": [
        "**RIDGE**"
      ]
    },
    {
      "cell_type": "code",
      "execution_count": null,
      "metadata": {
        "colab": {
          "background_save": true
        },
        "id": "8KlPIKPrsBd6"
      },
      "outputs": [],
      "source": [
        "from sklearn.linear_model import Ridge\n",
        "rdg = Ridge()\n",
        "rdg.fit(X_train,y_train)\n",
        "y_pred_rdg = rdg.predict(X_test)"
      ]
    },
    {
      "cell_type": "code",
      "execution_count": null,
      "metadata": {
        "colab": {
          "background_save": true
        },
        "id": "_WQmnHTusBd7"
      },
      "outputs": [],
      "source": [
        "rdg.score(X_test,y_test)*100"
      ]
    },
    {
      "cell_type": "code",
      "execution_count": null,
      "metadata": {
        "colab": {
          "background_save": true
        },
        "id": "hwqD8W5BsBd7"
      },
      "outputs": [],
      "source": [
        "print('Mean Absolute Error:', metrics.mean_absolute_error(y_test, y_pred_rdg))\n",
        "print('Mean Squared Error:', metrics.mean_squared_error(y_test, y_pred_rdg))\n",
        "print('Root Mean Squared Error:', np.sqrt(metrics.mean_squared_error(y_test, y_pred_rdg)))"
      ]
    },
    {
      "cell_type": "markdown",
      "metadata": {
        "id": "mvOZkZ6wJC5V"
      },
      "source": [
        "**RANDOM FOREST REGRESSOR**"
      ]
    },
    {
      "cell_type": "code",
      "execution_count": null,
      "metadata": {
        "colab": {
          "background_save": true,
          "base_uri": "https://localhost:8080/"
        },
        "id": "ah8Xk3ptsBd7",
        "outputId": "48d86be1-da81-434a-c6b4-057fa64e082c"
      },
      "outputs": [
        {
          "name": "stdout",
          "output_type": "stream",
          "text": [
            "Fitting 5 folds for each of 648 candidates, totalling 3240 fits\n",
            "Best parameters found:  {'bootstrap': False, 'max_depth': None, 'max_features': 'log2', 'min_samples_leaf': 1, 'min_samples_split': 2, 'n_estimators': 100}\n",
            "Accuracy:  0.7981084922129991\n"
          ]
        }
      ],
      "source": [
        "from sklearn import metrics\n",
        "from sklearn.ensemble import RandomForestRegressor\n",
        "rfr = RandomForestRegressor()\n",
        "rfr.fit(X_train,y_train)\n",
        "y_pred_rfr = rfr.predict(X_test)\n",
        "\n"
      ]
    },
    {
      "cell_type": "code",
      "execution_count": null,
      "metadata": {
        "colab": {
          "background_save": true
        },
        "id": "iJ8MrPhFsBd7",
        "outputId": "c75bdeea-2125-4ee3-fd8c-293a6968ad0a"
      },
      "outputs": [
        {
          "ename": "NotFittedError",
          "evalue": "This RandomForestRegressor instance is not fitted yet. Call 'fit' with appropriate arguments before using this estimator.",
          "output_type": "error",
          "traceback": [
            "\u001b[0;31m---------------------------------------------------------------------------\u001b[0m",
            "\u001b[0;31mNotFittedError\u001b[0m                            Traceback (most recent call last)",
            "\u001b[0;32m<ipython-input-864-c1ea2d61ae78>\u001b[0m in \u001b[0;36m<cell line: 1>\u001b[0;34m()\u001b[0m\n\u001b[0;32m----> 1\u001b[0;31m \u001b[0mrfr\u001b[0m\u001b[0;34m.\u001b[0m\u001b[0mscore\u001b[0m\u001b[0;34m(\u001b[0m\u001b[0mX_test\u001b[0m\u001b[0;34m,\u001b[0m\u001b[0my_test\u001b[0m\u001b[0;34m)\u001b[0m\u001b[0;34m*\u001b[0m\u001b[0;36m100\u001b[0m\u001b[0;34m\u001b[0m\u001b[0;34m\u001b[0m\u001b[0m\n\u001b[0m",
            "\u001b[0;32m/usr/local/lib/python3.10/dist-packages/sklearn/base.py\u001b[0m in \u001b[0;36mscore\u001b[0;34m(self, X, y, sample_weight)\u001b[0m\n\u001b[1;32m    846\u001b[0m         \u001b[0;32mfrom\u001b[0m \u001b[0;34m.\u001b[0m\u001b[0mmetrics\u001b[0m \u001b[0;32mimport\u001b[0m \u001b[0mr2_score\u001b[0m\u001b[0;34m\u001b[0m\u001b[0;34m\u001b[0m\u001b[0m\n\u001b[1;32m    847\u001b[0m \u001b[0;34m\u001b[0m\u001b[0m\n\u001b[0;32m--> 848\u001b[0;31m         \u001b[0my_pred\u001b[0m \u001b[0;34m=\u001b[0m \u001b[0mself\u001b[0m\u001b[0;34m.\u001b[0m\u001b[0mpredict\u001b[0m\u001b[0;34m(\u001b[0m\u001b[0mX\u001b[0m\u001b[0;34m)\u001b[0m\u001b[0;34m\u001b[0m\u001b[0;34m\u001b[0m\u001b[0m\n\u001b[0m\u001b[1;32m    849\u001b[0m         \u001b[0;32mreturn\u001b[0m \u001b[0mr2_score\u001b[0m\u001b[0;34m(\u001b[0m\u001b[0my\u001b[0m\u001b[0;34m,\u001b[0m \u001b[0my_pred\u001b[0m\u001b[0;34m,\u001b[0m \u001b[0msample_weight\u001b[0m\u001b[0;34m=\u001b[0m\u001b[0msample_weight\u001b[0m\u001b[0;34m)\u001b[0m\u001b[0;34m\u001b[0m\u001b[0;34m\u001b[0m\u001b[0m\n\u001b[1;32m    850\u001b[0m \u001b[0;34m\u001b[0m\u001b[0m\n",
            "\u001b[0;32m/usr/local/lib/python3.10/dist-packages/sklearn/ensemble/_forest.py\u001b[0m in \u001b[0;36mpredict\u001b[0;34m(self, X)\u001b[0m\n\u001b[1;32m   1059\u001b[0m             \u001b[0mThe\u001b[0m \u001b[0mpredicted\u001b[0m \u001b[0mvalues\u001b[0m\u001b[0;34m.\u001b[0m\u001b[0;34m\u001b[0m\u001b[0;34m\u001b[0m\u001b[0m\n\u001b[1;32m   1060\u001b[0m         \"\"\"\n\u001b[0;32m-> 1061\u001b[0;31m         \u001b[0mcheck_is_fitted\u001b[0m\u001b[0;34m(\u001b[0m\u001b[0mself\u001b[0m\u001b[0;34m)\u001b[0m\u001b[0;34m\u001b[0m\u001b[0;34m\u001b[0m\u001b[0m\n\u001b[0m\u001b[1;32m   1062\u001b[0m         \u001b[0;31m# Check data\u001b[0m\u001b[0;34m\u001b[0m\u001b[0;34m\u001b[0m\u001b[0m\n\u001b[1;32m   1063\u001b[0m         \u001b[0mX\u001b[0m \u001b[0;34m=\u001b[0m \u001b[0mself\u001b[0m\u001b[0;34m.\u001b[0m\u001b[0m_validate_X_predict\u001b[0m\u001b[0;34m(\u001b[0m\u001b[0mX\u001b[0m\u001b[0;34m)\u001b[0m\u001b[0;34m\u001b[0m\u001b[0;34m\u001b[0m\u001b[0m\n",
            "\u001b[0;32m/usr/local/lib/python3.10/dist-packages/sklearn/utils/validation.py\u001b[0m in \u001b[0;36mcheck_is_fitted\u001b[0;34m(estimator, attributes, msg, all_or_any)\u001b[0m\n\u001b[1;32m   1659\u001b[0m \u001b[0;34m\u001b[0m\u001b[0m\n\u001b[1;32m   1660\u001b[0m     \u001b[0;32mif\u001b[0m \u001b[0;32mnot\u001b[0m \u001b[0m_is_fitted\u001b[0m\u001b[0;34m(\u001b[0m\u001b[0mestimator\u001b[0m\u001b[0;34m,\u001b[0m \u001b[0mattributes\u001b[0m\u001b[0;34m,\u001b[0m \u001b[0mall_or_any\u001b[0m\u001b[0;34m)\u001b[0m\u001b[0;34m:\u001b[0m\u001b[0;34m\u001b[0m\u001b[0;34m\u001b[0m\u001b[0m\n\u001b[0;32m-> 1661\u001b[0;31m         \u001b[0;32mraise\u001b[0m \u001b[0mNotFittedError\u001b[0m\u001b[0;34m(\u001b[0m\u001b[0mmsg\u001b[0m \u001b[0;34m%\u001b[0m \u001b[0;34m{\u001b[0m\u001b[0;34m\"name\"\u001b[0m\u001b[0;34m:\u001b[0m \u001b[0mtype\u001b[0m\u001b[0;34m(\u001b[0m\u001b[0mestimator\u001b[0m\u001b[0;34m)\u001b[0m\u001b[0;34m.\u001b[0m\u001b[0m__name__\u001b[0m\u001b[0;34m}\u001b[0m\u001b[0;34m)\u001b[0m\u001b[0;34m\u001b[0m\u001b[0;34m\u001b[0m\u001b[0m\n\u001b[0m\u001b[1;32m   1662\u001b[0m \u001b[0;34m\u001b[0m\u001b[0m\n\u001b[1;32m   1663\u001b[0m \u001b[0;34m\u001b[0m\u001b[0m\n",
            "\u001b[0;31mNotFittedError\u001b[0m: This RandomForestRegressor instance is not fitted yet. Call 'fit' with appropriate arguments before using this estimator."
          ]
        }
      ],
      "source": [
        "rfr.score(X_test,y_test)*100"
      ]
    },
    {
      "cell_type": "code",
      "execution_count": null,
      "metadata": {
        "colab": {
          "background_save": true
        },
        "id": "piaaGV_msBd7"
      },
      "outputs": [],
      "source": [
        "print('Mean Absolute Error:', metrics.mean_absolute_error(y_test, y_pred_rfr))\n",
        "print('Mean Squared Error:', metrics.mean_squared_error(y_test, y_pred_rfr))\n",
        "print('Root Mean Squared Error:', np.sqrt(metrics.mean_squared_error(y_test, y_pred_rfr)))"
      ]
    },
    {
      "cell_type": "markdown",
      "metadata": {
        "id": "Uv6z0WklJKUa"
      },
      "source": [
        "**LASSO**"
      ]
    },
    {
      "cell_type": "code",
      "execution_count": null,
      "metadata": {
        "colab": {
          "background_save": true
        },
        "id": "5QIUe8K9sBd8"
      },
      "outputs": [],
      "source": [
        "from sklearn.linear_model import Lasso\n",
        "ls = Lasso()\n",
        "ls.fit(X_train,y_train)\n",
        "y_pred_ls = ls.predict(X_test)"
      ]
    },
    {
      "cell_type": "code",
      "execution_count": null,
      "metadata": {
        "colab": {
          "background_save": true
        },
        "id": "t7hBs-llsBd8"
      },
      "outputs": [],
      "source": [
        "ls.score(X_test,y_test)*100"
      ]
    },
    {
      "cell_type": "code",
      "execution_count": null,
      "metadata": {
        "colab": {
          "background_save": true
        },
        "id": "bFOlUEsnsBd8"
      },
      "outputs": [],
      "source": [
        "print('Mean Absolute Error:', metrics.mean_absolute_error(y_test, y_pred_ls))\n",
        "print('Mean Squared Error:', metrics.mean_squared_error(y_test, y_pred_ls))\n",
        "print('Root Mean Squared Error:', np.sqrt(metrics.mean_squared_error(y_test, y_pred_ls)))"
      ]
    },
    {
      "cell_type": "markdown",
      "metadata": {
        "id": "QjBo9shUGmya"
      },
      "source": [
        "**SVM**"
      ]
    },
    {
      "cell_type": "code",
      "execution_count": null,
      "metadata": {
        "colab": {
          "background_save": true
        },
        "id": "2inTnTK_Fgm6"
      },
      "outputs": [],
      "source": [
        "from sklearn.svm import SVR\n",
        "svr_model = SVR(kernel='rbf')\n",
        "svr_model.fit(X_train, y_train)\n",
        "y_pred_svr = svr_model.predict(X_test)\n"
      ]
    },
    {
      "cell_type": "code",
      "execution_count": null,
      "metadata": {
        "colab": {
          "background_save": true
        },
        "id": "P59dx27FFtr4"
      },
      "outputs": [],
      "source": [
        "svr_model.score(X_test,y_test)"
      ]
    },
    {
      "cell_type": "code",
      "execution_count": null,
      "metadata": {
        "colab": {
          "background_save": true
        },
        "id": "GvaOX8nbFt9q"
      },
      "outputs": [],
      "source": [
        "print('Mean Absolute Error:', metrics.mean_absolute_error(y_test, y_pred_svr))\n",
        "print('Mean Squared Error:', metrics.mean_squared_error(y_test, y_pred_svr))\n",
        "print('Root Mean Squared Error:', np.sqrt(metrics.mean_squared_error(y_test, y_pred_svr)))"
      ]
    },
    {
      "cell_type": "markdown",
      "metadata": {
        "id": "b3npbbiBGqBS"
      },
      "source": [
        "**Decision Tree**"
      ]
    },
    {
      "cell_type": "code",
      "execution_count": null,
      "metadata": {
        "colab": {
          "background_save": true
        },
        "id": "uWZW9pKGGu-H"
      },
      "outputs": [],
      "source": [
        "from sklearn.tree import DecisionTreeRegressor\n",
        "tree_model = DecisionTreeRegressor()\n",
        "tree_model.fit(X_train, y_train)\n",
        "\n",
        "# Predictions\n",
        "y_pred_tree = tree_model.predict(X_test)"
      ]
    },
    {
      "cell_type": "code",
      "execution_count": null,
      "metadata": {
        "colab": {
          "background_save": true
        },
        "id": "yp6Ogn3mGvLt"
      },
      "outputs": [],
      "source": [
        "tree_model.score(X_test,y_test)"
      ]
    },
    {
      "cell_type": "code",
      "execution_count": null,
      "metadata": {
        "colab": {
          "background_save": true
        },
        "id": "Vo7NubOfGvX5"
      },
      "outputs": [],
      "source": [
        "print('Mean Absolute Error:', metrics.mean_absolute_error(y_test, y_pred_tree))\n",
        "print('Mean Squared Error:', metrics.mean_squared_error(y_test, y_pred_tree))\n",
        "print('Root Mean Squared Error:', np.sqrt(metrics.mean_squared_error(y_test, y_pred_tree)))"
      ]
    },
    {
      "cell_type": "code",
      "execution_count": null,
      "metadata": {
        "id": "9Z8z-6UEsBd8"
      },
      "outputs": [],
      "source": [
        "Randpred = pd.DataFrame({ \"actual\": y_test, \"pred\": y_pred_rfr })\n",
        "Randpred"
      ]
    },
    {
      "cell_type": "code",
      "execution_count": null,
      "metadata": {
        "id": "3wdw501DsBd9"
      },
      "outputs": [],
      "source": [
        "plt.figure(figsize=(12,7))\n",
        "preds_rf = rfr.predict(X_test)\n",
        "plt.scatter(y_test,X_test.iloc[:,2],color=\"red\")\n",
        "plt.title(\"True rate vs Predicted rate\",size=20,pad=15)\n",
        "plt.xlabel('Rating',size = 15)\n",
        "plt.ylabel('Frequency',size = 15)\n",
        "plt.scatter(preds_rf,X_test.iloc[:,2],color=\"green\")"
      ]
    },
    {
      "cell_type": "code",
      "execution_count": null,
      "metadata": {
        "id": "ey6Tirpx6GGK"
      },
      "outputs": [],
      "source": [
        "\n"
      ]
    }
  ],
  "metadata": {
    "colab": {
      "toc_visible": true,
      "provenance": []
    },
    "kernelspec": {
      "display_name": "Python 3",
      "language": "python",
      "name": "python3"
    },
    "language_info": {
      "codemirror_mode": {
        "name": "ipython",
        "version": 3
      },
      "file_extension": ".py",
      "mimetype": "text/x-python",
      "name": "python",
      "nbconvert_exporter": "python",
      "pygments_lexer": "ipython3",
      "version": "3.8.3"
    }
  },
  "nbformat": 4,
  "nbformat_minor": 0
}